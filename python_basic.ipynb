{
 "cells": [
  {
   "attachments": {},
   "cell_type": "markdown",
   "id": "c1985b98",
   "metadata": {},
   "source": [
    "# Print"
   ]
  },
  {
   "cell_type": "code",
   "execution_count": 279,
   "id": "f2f07acf",
   "metadata": {
    "scrolled": true
   },
   "outputs": [
    {
     "name": "stdout",
     "output_type": "stream",
     "text": [
      "hello world\n"
     ]
    }
   ],
   "source": [
    "print(\"hello world\") ## yeah this is it, no main, no function return type(if dont understand these terms then its ok )"
   ]
  },
  {
   "attachments": {},
   "cell_type": "markdown",
   "id": "e7b2ca7e",
   "metadata": {},
   "source": [
    "# Types in python"
   ]
  },
  {
   "cell_type": "code",
   "execution_count": 280,
   "id": "14d22c86",
   "metadata": {},
   "outputs": [],
   "source": [
    "a = 12032  ##int        ##immutable\n",
    "b = \"test1\" ## string  ##immutable\n",
    "c = 13.2    #float       ##immutable\n",
    "d = ['1']    ##list     ##mutable\n",
    "e = (1,2)    ##tuples    ##immmutable\n",
    "f = {1:\"munching\"}   ##dictionary\n",
    "g = set()            ## empty set\n"
   ]
  },
  {
   "attachments": {},
   "cell_type": "markdown",
   "id": "a0a9c683",
   "metadata": {},
   "source": [
    "Python is dynamically typed language unlike C++ or C or Java WHERE you have to define variable types and function return types."
   ]
  },
  {
   "attachments": {},
   "cell_type": "markdown",
   "id": "40ec982d",
   "metadata": {},
   "source": [
    "# Unpacking, Insertion and other list operations"
   ]
  },
  {
   "cell_type": "code",
   "execution_count": 281,
   "id": "f9ccdf89",
   "metadata": {
    "scrolled": true
   },
   "outputs": [
    {
     "name": "stdout",
     "output_type": "stream",
     "text": [
      "['am ', 'a ']\n",
      "oreh\n",
      "False\n",
      "[4, 3, 2, 1]\n",
      "*****************\n",
      "[1, 2, 3, 4]\n",
      "[1, 2, 99, 100, 3, 4]\n"
     ]
    }
   ],
   "source": [
    "\n",
    "unpacking_list = list([\"i\", \"am \" ,\"a \", \"tuple\"])\n",
    "\n",
    "unp_a,*unp_b, unp_c = unpacking_list\n",
    "\n",
    "print(unp_b)\n",
    "\n",
    "##reverse a list can easily be done by [::-1]\n",
    "\n",
    "list_a = [1,2,3,4]\n",
    "reversed_list_a = list_a[::-1]\n",
    "##this can be applied to strings to as string are also list of characters yup useful to check isPalindrome or not\n",
    "string_test = \"hero\"\n",
    "print(string_test[::-1])\n",
    "print(string_test==string_test[::-1])\n",
    "print(reversed_list_a)\n",
    "\n",
    "\n",
    "print(\"*****************\")\n",
    "\n",
    "#to insert some number thing between two index:\n",
    "print(list_a)\n",
    "list_a[2:2] = [99,100]\n",
    "print(list_a)"
   ]
  },
  {
   "attachments": {},
   "cell_type": "markdown",
   "id": "c5480ea3",
   "metadata": {},
   "source": [
    " ## flatenning of list"
   ]
  },
  {
   "cell_type": "code",
   "execution_count": 282,
   "id": "d178ec4b",
   "metadata": {},
   "outputs": [
    {
     "name": "stdout",
     "output_type": "stream",
     "text": [
      "[[[[[[[[1]]]]]]]]\n",
      "[1]\n",
      "[]\n"
     ]
    }
   ],
   "source": [
    "\n",
    "import itertools\n",
    "##suppose a list of lists and then need to flatten it:\n",
    "\n",
    "nest_list_1 = [[1,23],[[2,3],[[[2]]]]]\n",
    "nest =[1,2,3,4]\n",
    "nest_list = [[[[[[[[[1]]]]]]]]]\n",
    "print(list(itertools.chain.from_iterable(nest_list)))\n",
    "##recurrsive call to lambda function\n",
    "flatten = lambda x : [ y for l in x for y in flatten(l) ] if type(x)==list else [x]\n",
    "###yes this is confusing \n",
    "# flatten(nest_list)\n",
    "# main_list =[]\n",
    "# # def function_flaten(given_list):\n",
    "# #     print(given_list)\n",
    "# #     global main_list\n",
    "# #     print(main_list)\n",
    "# #     if type(given_list)is list:\n",
    "# #         for levels in given_list:\n",
    "# #             for value in function_flaten(levels):\n",
    "# #                 main_list.append(value)\n",
    "# #                 \n",
    "# #     else:\n",
    "# #         return [given_list]\n",
    "\n",
    "def function_flaten(given_list):\n",
    "    res =[]\n",
    "    def loop_function(ls):\n",
    "        for i in ls:\n",
    "            if isinstance(i,list):\n",
    "                loop_function(i)\n",
    "            else:\n",
    "                res.append(i)\n",
    "        \n",
    "    loop_function(given_list)\n",
    "    return res\n",
    "\n",
    "print(function_flaten(nest_list))\n",
    "# print(main_list)\n",
    "\n"
   ]
  },
  {
   "cell_type": "code",
   "execution_count": 301,
   "id": "083bcffe",
   "metadata": {},
   "outputs": [
    {
     "name": "stdout",
     "output_type": "stream",
     "text": [
      "\n",
      "('h', 'e', 'y', 't')\n",
      "('e', 'y', 't', 'h')\n",
      "('y', 't', 'h', 'e')\n",
      "('t', 'h', 'e', 'r')\n",
      "('h', 'e', 'r', 'e')\n",
      "('e', 'r', 'e', 'a')\n",
      "('r', 'e', 'a', 'r')\n",
      "('e', 'a', 'r', 'e')\n"
     ]
    }
   ],
   "source": [
    "## strings slice or islice\n",
    "\n",
    "from itertools import islice\n",
    "\n",
    "def ngrams(word,count):\n",
    "    z = (islice(word,i,None) for i in range (count))\n",
    "    print()\n",
    "    return zip(*z)\n",
    "\n",
    "word =\"heythereare\"\n",
    "for i in (ngrams(word,4)):\n",
    "    print(i)"
   ]
  },
  {
   "attachments": {},
   "cell_type": "markdown",
   "id": "30ee8f55",
   "metadata": {},
   "source": [
    "# Mutability Caveat"
   ]
  },
  {
   "cell_type": "code",
   "execution_count": 284,
   "id": "0df42dd7",
   "metadata": {},
   "outputs": [
    {
     "name": "stdout",
     "output_type": "stream",
     "text": [
      "('hi there', [1, 2], 43)\n",
      "('hi there', [1, 2, 'i am added new'], 43)\n"
     ]
    }
   ],
   "source": [
    "\n",
    "\n",
    "## some info about tuples or any immutable : tuples are immutable but if they contain mutalbe type then the content\n",
    "# is mutable\n",
    "\n",
    "string_dummy = \"hi there\"\n",
    "list_dummy =  [1,2]\n",
    "int_dummy = 43\n",
    "\n",
    "tuple_obj = (string_dummy,list_dummy,int_dummy)\n",
    "print(tuple_obj)\n",
    "int_dummy = 45\n",
    "list_dummy.append(\"i am added new\")\n",
    "print(tuple_obj)\n"
   ]
  },
  {
   "attachments": {},
   "cell_type": "markdown",
   "id": "0cefacef",
   "metadata": {},
   "source": [
    "# List Comprehensions"
   ]
  },
  {
   "cell_type": "code",
   "execution_count": 285,
   "id": "c89947ec",
   "metadata": {
    "scrolled": true
   },
   "outputs": [
    {
     "name": "stdout",
     "output_type": "stream",
     "text": [
      "[[1, 2, 3], [4, 5, 6], [7, 8, 9]]\n",
      "[[1, 4, 7], [2, 5, 8], [3, 6, 9]]\n",
      "###############################\n",
      "[0, 8, 8, 2, 8, 7, 4, 9, 5, 7, 10, 3, 10, 3, 9, 1, 4, 8, 10, 1, 7, 5, 10, 9, 4, 3, 1, 2, 1, 7, 7, 0, 5, 10, 0, 2, 2, 6, 9, 7, 2, 1, 5, 5, 1, 0, 6, 5, 4, 2, 9, 6, 4, 8, 8, 4, 1, 5, 10, 3, 4, 4, 2, 10, 8, 9, 9, 10, 8, 8, 4, 3, 7, 2, 3, 7, 7, 1, 1, 1, 0, 6, 6, 8, 0, 4, 4, 6, 1, 7, 4, 4, 8, 8, 3, 4, 5, 7, 9, 3]\n"
     ]
    }
   ],
   "source": [
    "## given a matrix finds its transpose:\n",
    "import random\n",
    "matrix = [[1,2,3],[4,5,6],[7,8,9]]\n",
    "\n",
    "transpose = [[row[i] for row in matrix] for i in range(len(matrix[0]))]\n",
    "\n",
    "print(matrix)\n",
    "print(transpose)\n",
    "\n",
    "print(\"###############################\")\n",
    "\n",
    "##this is highly useful if you know what you are trying to do but equally hard to debug.\n",
    "##generating a list of 100 random numbers in range of 0, 10\n",
    "list_generated  = [random.randint(0,10) for _ in range(0,100)]\n",
    "print(list_generated)\n"
   ]
  },
  {
   "attachments": {},
   "cell_type": "markdown",
   "id": "a5cd8be2",
   "metadata": {},
   "source": [
    "# Some caveats"
   ]
  },
  {
   "cell_type": "code",
   "execution_count": 286,
   "id": "8fa3a3a9",
   "metadata": {},
   "outputs": [
    {
     "name": "stdout",
     "output_type": "stream",
     "text": [
      "generated result by first\n",
      "[[0, 0, 0], [0, 0, 0], [0, 0, 0], [0, 0, 0]]\n",
      "generated result by second\n",
      "[[0, 0, 0], [0, 0, 0], [0, 0, 0], [0, 0, 0]]\n",
      "generated result by third\n",
      "[[0 0 0]\n",
      " [0 0 0]\n",
      " [0 0 0]\n",
      " [0 0 0]]\n",
      "after changing one value for first\n",
      "[[1, 0, 0], [1, 0, 0], [1, 0, 0], [1, 0, 0]]\n",
      "after changing one value for second\n",
      "[[1, 0, 0], [0, 0, 0], [0, 0, 0], [0, 0, 0]]\n",
      "after changing one value for third\n",
      "[[1 0 0]\n",
      " [0 0 0]\n",
      " [0 0 0]\n",
      " [0 0 0]]\n"
     ]
    }
   ],
   "source": [
    "## lets look at how list can be bit misleading\n",
    "# Q1 : Generate 2 dimensional matrix for given rows and given columns of zeroes.\n",
    "\n",
    "def generateMatrixFirst(rows,columns):\n",
    "    return([[0]*columns]*rows)  ## this looks okay but its not\n",
    "\n",
    "def generateMatrixTwo(rols,columns):\n",
    "    return([[0 for col in range(columns)] for row in range(rows)])\n",
    "\n",
    "##method third this one is most robust with various inbuilt functionality too.\n",
    "import numpy as np\n",
    "def generateMatrixThird(rows,columns):\n",
    "    return np.zeros((rows,columns),dtype=int)\n",
    "rows,columns = 4,3\n",
    "mat= (generateMatrixFirst(rows,columns))\n",
    "mat2 = generateMatrixTwo(rows,columns)\n",
    "mat3 = generateMatrixThird(rows,columns)\n",
    "## generated result by first\n",
    "print(\"generated result by first\")\n",
    "print(mat)\n",
    "print(\"generated result by second\")\n",
    "print(mat2)\n",
    "\n",
    "print(\"generated result by third\")\n",
    "print(mat3)\n",
    "##now change one of the values in 0,0 position to 1\n",
    "\n",
    "mat[0][0]=1\n",
    "print(\"after changing one value for first\")\n",
    "print(mat) ##check result\n",
    "\n",
    "mat2[0][0]=1\n",
    "print(\"after changing one value for second\")\n",
    "print(mat2) ##check result\n",
    "\n",
    "mat3[0][0]=1\n",
    "print(\"after changing one value for third\")\n",
    "print(mat3) ##check result"
   ]
  },
  {
   "attachments": {},
   "cell_type": "markdown",
   "id": "fc4e8f4c",
   "metadata": {},
   "source": [
    "# Dictionary Methods"
   ]
  },
  {
   "cell_type": "code",
   "execution_count": 287,
   "id": "feef225d",
   "metadata": {},
   "outputs": [
    {
     "name": "stdout",
     "output_type": "stream",
     "text": [
      "0\n",
      "1 munching\n",
      "keys : 1\n",
      "{}\n",
      "{'Rupees': 'India', 'USD': 'America', 'YEN': 'JAPAN'}\n"
     ]
    }
   ],
   "source": [
    "print(f.get(2,0))##this is helpful for running the dictionary codes without code breaking, as a defalut values (0) is provided\n",
    "##let look at inside dictionary:\n",
    "##iteration\n",
    "for key,value in f.items():\n",
    "    print( key ,value)\n",
    "##keys only\n",
    "for key in f.keys():   ##learn the use of format with string it is very useful for printing dynammic strings\n",
    "    print(\"keys : {}\".format(key) )\n",
    "##similarly can be done for values.\n",
    "f.pop(1)  ## this key should be available to pop otherwise will give key error.\n",
    "print(f)\n",
    "f[1]='munching'\n",
    "\n",
    "## inverse the key and values:\n",
    "\n",
    "currency_dict ={\n",
    "    \"India\": \"Rupees\",\n",
    "    \"America\": \"USD\",\n",
    "    \"JAPAN\": \"YEN\"\n",
    "}\n",
    "\n",
    "print(dict(zip(currency_dict.values(),currency_dict.keys())))"
   ]
  },
  {
   "attachments": {},
   "cell_type": "markdown",
   "id": "de388be8",
   "metadata": {},
   "source": [
    "# Match case "
   ]
  },
  {
   "cell_type": "code",
   "execution_count": 288,
   "id": "f33cc591",
   "metadata": {},
   "outputs": [
    {
     "name": "stdout",
     "output_type": "stream",
     "text": [
      "3 8\n"
     ]
    }
   ],
   "source": [
    "## this blocks of code is useful to check python version and to implement functions accordingly.\n",
    "from platform import python_version\n",
    "a,version_value =  python_version().split(\".\")[0],python_version().split(\".\")[1]\n",
    "print(a,version_value)\n"
   ]
  },
  {
   "cell_type": "raw",
   "id": "78795108",
   "metadata": {},
   "source": [
    "### this should be chnaged to code if last output >=3.10\n",
    "var_test  = 3\n",
    "if version_value>=10:\n",
    "    match var_test:\n",
    "        case(1):\n",
    "            print(\"value is 1\")\n",
    "        case(2):\n",
    "            print(\"value is 2\")\n",
    "        case(3):\n",
    "            print(\"value is 3\")\n",
    "        case _:\n",
    "            print(\"default case\")\n",
    "        \n"
   ]
  },
  {
   "cell_type": "code",
   "execution_count": 289,
   "id": "9eb52ce9",
   "metadata": {},
   "outputs": [
    {
     "name": "stdout",
     "output_type": "stream",
     "text": [
      "value is 3\n",
      "default case\n"
     ]
    }
   ],
   "source": [
    "##implementing the above case using  dictionary for lower versions, this can also be implemented by if-elif-else blocks\n",
    "\n",
    "var_test_1 =3 \n",
    "var_test_2 = \"43\"\n",
    "def matchCaser(inp):\n",
    "    mapping ={\n",
    "        1:\"value is 1\",\n",
    "        2:\"value is 2\",\n",
    "        3:\"value is 3\"\n",
    "    }\n",
    "    return mapping.get(inp,\"default case\")\n",
    "\n",
    "print(matchCaser(var_test_1))\n",
    "print(matchCaser(var_test_2))"
   ]
  },
  {
   "attachments": {},
   "cell_type": "markdown",
   "id": "260e2365",
   "metadata": {},
   "source": [
    "# Pass by reference or value in python"
   ]
  },
  {
   "cell_type": "code",
   "execution_count": 290,
   "id": "33cd61fb",
   "metadata": {
    "scrolled": true
   },
   "outputs": [
    {
     "name": "stdout",
     "output_type": "stream",
     "text": [
      "inside function\n",
      "1323\n",
      "[1, 34]\n",
      "[1, 34, 1]\n"
     ]
    }
   ],
   "source": [
    "#first_function()         ##dont do this\n",
    "def first_function():     ##fucntion definition and function invocation important point: defintion should always be before invocation\n",
    "    print(\"inside function\") \n",
    "\n",
    "first_function()\n",
    "\n",
    "##pass by refernce or pass by value:\n",
    "a_test = \"1323\"\n",
    "b_test = [1,34]\n",
    "\n",
    "def check_Function_test(a):\n",
    "    a = \"2324\"\n",
    "    \n",
    "check_Function_test(a_test)\n",
    "check_Function_test(b_test)\n",
    "print(a_test)    ## this was expected\n",
    "print(b_test)   ## this is good right?\n",
    "\n",
    "def check_function_Test2(a):\n",
    "    a.append(1)\n",
    "       ## try this and see the results \n",
    "    ##note here if int, float, bool, string and tuple is passed inside function a copy is made so thats why no change for these.\n",
    "\n",
    "check_function_Test2(b_test)\n",
    "\n",
    "print(b_test)\n",
    "\n",
    "# https://medium.com/@meghamohan/mutable-and-immutable-side-of-python-c2145cf72747\n",
    "\n",
    "##*awargs **kwargs\n",
    "\n"
   ]
  },
  {
   "attachments": {},
   "cell_type": "markdown",
   "id": "c24937f8",
   "metadata": {},
   "source": [
    "# ID and type"
   ]
  },
  {
   "cell_type": "code",
   "execution_count": 291,
   "id": "20619664",
   "metadata": {},
   "outputs": [
    {
     "name": "stdout",
     "output_type": "stream",
     "text": [
      "140731884845008\n",
      "1249730058704\n"
     ]
    },
    {
     "data": {
      "text/plain": [
       "int"
      ]
     },
     "execution_count": 291,
     "metadata": {},
     "output_type": "execute_result"
    }
   ],
   "source": [
    "##id and type keywords : they are important to understand datatypes and memory locations being assigned to variable.\n",
    "a = 134\n",
    "print(id(a))\n",
    "a= 12031\n",
    "print(id(a))\n",
    "\n",
    "type(a)\n",
    "##see the value of location (id) of the variable changed"
   ]
  },
  {
   "attachments": {},
   "cell_type": "markdown",
   "id": "8a9dcce0",
   "metadata": {},
   "source": [
    "# Args and Kwargs"
   ]
  },
  {
   "cell_type": "code",
   "execution_count": 292,
   "id": "9f4d73ba",
   "metadata": {},
   "outputs": [
    {
     "name": "stdout",
     "output_type": "stream",
     "text": [
      "1\n",
      "34\n",
      "43\n",
      "35\n",
      "1\n",
      "2\n",
      "('China', 'Chinese Yuan')\n",
      "('America', 'Usd')\n",
      "('India', 'rps')\n",
      "('China', 'yen')\n",
      "('America', 'Usd')\n",
      "('India', 'rps')\n",
      "('Japan', 'Yen')\n",
      "('region', 'west Africs')\n",
      "('species', 'homo sapiens')\n"
     ]
    }
   ],
   "source": [
    "##when we dont the number of the arguments will be passed then we pass *args and **kwargs(dictionary type)(named parameters)\n",
    "\n",
    "def argumentUnknown(*args):   # args is not special keyword\n",
    "    \n",
    "    for arg in args:\n",
    "        print(arg)\n",
    "\n",
    "argumentUnknown(1,34,43,35)\n",
    "argumentUnknown(1,2)\n",
    "\n",
    "argument_Dict = {'region':'west Africs','species':'homo sapiens'}\n",
    "\n",
    "def argumentUnknownKwargs(**kwargs):  ##kwargs is not special key word can be used as anything your name too\n",
    "#     currency =[]\n",
    "    for value in kwargs.items():\n",
    "        print(value)\n",
    "#         currency.append(value)\n",
    "argumentUnknownKwargs(China = \"Chinese Yuan\", America = \"Usd\", India = \"rps\")\n",
    "argumentUnknownKwargs(China = \"yen\", America = \"Usd\", India = \"rps\", Japan = \"Yen\")\n",
    "argumentUnknownKwargs(**argument_Dict)   ##unpacking of this dictionary using ** this can be used with args as *args\n",
    "\n",
    "##note : args should come before kwargs in definition of function just like postional parameters are before named ones."
   ]
  },
  {
   "attachments": {},
   "cell_type": "markdown",
   "id": "1f23b761",
   "metadata": {},
   "source": [
    "# Scope of variables (Important just like other Programming Languages)"
   ]
  },
  {
   "cell_type": "code",
   "execution_count": 293,
   "id": "c53ee6ea",
   "metadata": {
    "scrolled": true
   },
   "outputs": [
    {
     "name": "stdout",
     "output_type": "stream",
     "text": [
      "2\n"
     ]
    }
   ],
   "source": [
    "variable_scope = 1\n",
    "def check_function_scope():\n",
    "    global variable_scope\n",
    "    variable_scope = variable_scope+1\n",
    "    print (variable_scope)\n",
    "check_function_scope()\n",
    "\n",
    "##this will result in error because this says you havent intialized the variable remove the comment for  global variable_scope\n",
    "    \n",
    "##each function have their own scope."
   ]
  },
  {
   "attachments": {},
   "cell_type": "markdown",
   "id": "79acdd23",
   "metadata": {},
   "source": [
    "   # Lambda functions\n",
    "   \n",
    "  Its quick declaration makes lambda functions ideal for use in callbacks, and when functions are to be passed as arguments to other functions. They are especially useful when used in conjunction with functions like map, filter, and reduce."
   ]
  },
  {
   "cell_type": "code",
   "execution_count": 294,
   "id": "2b4db358",
   "metadata": {},
   "outputs": [
    {
     "name": "stdout",
     "output_type": "stream",
     "text": [
      "9\n"
     ]
    }
   ],
   "source": [
    "##lambda functions\n",
    "##these are anonymous functions that are typically one liner.\n",
    "\n",
    "result_double = lambda x: x*x       ##it stores the defintion in variable result and then invoke by passing parameter 3.\n",
    "print(result_double(3))\n",
    "\n"
   ]
  },
  {
   "attachments": {},
   "cell_type": "markdown",
   "id": "912a30f5",
   "metadata": {},
   "source": [
    "# Important functions (zip, filter, map and reduce)"
   ]
  },
  {
   "cell_type": "code",
   "execution_count": 295,
   "id": "e8d6434a",
   "metadata": {},
   "outputs": [
    {
     "name": "stdout",
     "output_type": "stream",
     "text": [
      "first list value 1 second is 3243\n",
      "first list value 4 second is 34\n",
      "first list value 23 second is 4\n"
     ]
    }
   ],
   "source": [
    "## zip function this is highly useful working with many lists or iterable for individual operartions\n",
    "##are required.\n",
    "list_1 = [1,4,23]\n",
    "list_2 = [3243,34,4]\n",
    "result = zip(list_1,list_2)\n",
    "for l1,l2 in result:\n",
    "    print(\"first list value {} second is {}\".format(l1,l2))"
   ]
  },
  {
   "cell_type": "code",
   "execution_count": 296,
   "id": "1d838d65",
   "metadata": {},
   "outputs": [
    {
     "name": "stdout",
     "output_type": "stream",
     "text": [
      "(2, 4, 6, 8, 10)\n",
      "[2, 4, 6, 8, 10]\n",
      "[2, 4, 6, 8, 10]\n"
     ]
    }
   ],
   "source": [
    "def double(ag):\n",
    "    return ag*2\n",
    "list_map =[1,2,3,4,5]\n",
    "list_map_double = tuple(map(lambda x : x*2 , list_map))  ## map functions take one function and returns a map generator it needs\n",
    "#to be converted to iteratble  as in this case by list.\n",
    "list_map_double_list = list(map(lambda x : x*2 , list_map))\n",
    "list_map_given_fuction = list(map(double,list_map))\n",
    "print(list_map_double)\n",
    "print(list_map_double_list)\n",
    "print(list_map_given_fuction)\n",
    "\n",
    "\n"
   ]
  },
  {
   "attachments": {},
   "cell_type": "markdown",
   "id": "ec12c964",
   "metadata": {},
   "source": [
    "Map can take more than one iterable suppose to find the product of two list in different list"
   ]
  },
  {
   "cell_type": "code",
   "execution_count": 297,
   "id": "64beaac4",
   "metadata": {},
   "outputs": [
    {
     "name": "stdout",
     "output_type": "stream",
     "text": [
      "[6, 14, 24, 36, 50]\n"
     ]
    }
   ],
   "source": [
    "list_map_1 =[1,2,3,4,5]\n",
    "list_map_2 = [6,7,8,9,10]\n",
    "\n",
    "result_product = list(map(lambda x,y: x*y, list_map_1, list_map_2))\n",
    "print(result_product)"
   ]
  },
  {
   "cell_type": "raw",
   "id": "fc36c487",
   "metadata": {},
   "source": [
    "the value returned by map and filters are generators as shown above they need to be convererted to list or tuple by respective\n",
    "methods."
   ]
  },
  {
   "cell_type": "code",
   "execution_count": 298,
   "id": "f557a154",
   "metadata": {},
   "outputs": [
    {
     "name": "stdout",
     "output_type": "stream",
     "text": [
      "[2, 4, 6]\n"
     ]
    }
   ],
   "source": [
    "# filter functions for finding even numbers only in the list.\n",
    "##if dont want lambda functions use this instead.\n",
    "def filter_even(l):\n",
    "    return l%2==0\n",
    "list_filter = [1,2,3,4,5,6]\n",
    "result_filter = filter(lambda x : x%2==0, list_filter)\n",
    "print(list(result_filter))"
   ]
  },
  {
   "attachments": {},
   "cell_type": "markdown",
   "id": "c63a6f73",
   "metadata": {},
   "source": [
    "# Reduce internals"
   ]
  },
  {
   "cell_type": "code",
   "execution_count": 299,
   "id": "882f9e7b",
   "metadata": {},
   "outputs": [
    {
     "name": "stdout",
     "output_type": "stream",
     "text": [
      "47\n",
      "47\n"
     ]
    }
   ],
   "source": [
    "## using reduce\n",
    "from functools import reduce\n",
    "list_reduce = [1,23,23]\n",
    "result_reduce = reduce(lambda x,y : x+y, list_reduce )\n",
    "result_reduce_arr = reduce(np.add,list_reduce)\n",
    "print(result_reduce_arr)\n",
    "print(result_reduce)"
   ]
  },
  {
   "cell_type": "code",
   "execution_count": 302,
   "id": "a785358c",
   "metadata": {},
   "outputs": [
    {
     "name": "stdout",
     "output_type": "stream",
     "text": [
      "22\n",
      "24\n"
     ]
    }
   ],
   "source": [
    "## reduce functionality written internally is something like this:\n",
    "def add(a,b):\n",
    "    return a+b\n",
    "def product(a,b):\n",
    "    return a*b\n",
    "def reduce(function, itera,initial):\n",
    "    it = iter(itera)\n",
    "    if initial is None:\n",
    "        value = next(it)\n",
    "    else:\n",
    "        value = initial\n",
    "    for element in it:\n",
    "        value = function(value,element)\n",
    "    return (value)\n",
    "##your own reduce functions (this is power of functional programming passing functions inside functions)\n",
    "print(reduce(add,[1,2,4,5],10))\n",
    "print(reduce(product,[1,2,3,4],None))"
   ]
  }
 ],
 "metadata": {
  "kernelspec": {
   "display_name": "Python 3 (ipykernel)",
   "language": "python",
   "name": "python3"
  },
  "language_info": {
   "codemirror_mode": {
    "name": "ipython",
    "version": 3
   },
   "file_extension": ".py",
   "mimetype": "text/x-python",
   "name": "python",
   "nbconvert_exporter": "python",
   "pygments_lexer": "ipython3",
   "version": "3.8.8"
  }
 },
 "nbformat": 4,
 "nbformat_minor": 5
}
